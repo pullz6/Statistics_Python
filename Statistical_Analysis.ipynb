{
  "nbformat": 4,
  "nbformat_minor": 0,
  "metadata": {
    "colab": {
      "provenance": [],
      "authorship_tag": "ABX9TyMD0+ZzS6Aiu94a8vxlZVYP",
      "include_colab_link": true
    },
    "kernelspec": {
      "name": "python3",
      "display_name": "Python 3"
    },
    "language_info": {
      "name": "python"
    }
  },
  "cells": [
    {
      "cell_type": "markdown",
      "metadata": {
        "id": "view-in-github",
        "colab_type": "text"
      },
      "source": [
        "<a href=\"https://colab.research.google.com/github/pullz6/Statistics_Python/blob/main/Statistical_Analysis.ipynb\" target=\"_parent\"><img src=\"https://colab.research.google.com/assets/colab-badge.svg\" alt=\"Open In Colab\"/></a>"
      ]
    },
    {
      "cell_type": "code",
      "execution_count": 1,
      "metadata": {
        "id": "kA1AlO4lKcQi"
      },
      "outputs": [],
      "source": [
        "import pandas as pd\n",
        "import numpy as np\n",
        "import math\n",
        "import statistics"
      ]
    },
    {
      "cell_type": "code",
      "source": [
        "#implementing correlation for a list of numbers\n",
        "\n",
        "df = pd.DataFrame(columns = [\"Student\",\"Maths\",\"Science\"])\n",
        "df = df.append({'Student' : 'A', 'Maths' : 35, 'Science' : 24}, ignore_index = True)\n",
        "df = df.append({'Student' : 'B', 'Maths' : 20, 'Science' : 35}, ignore_index = True)\n",
        "df = df.append({'Student' : 'C', 'Maths' : 49, 'Science' : 39}, ignore_index = True)\n",
        "df = df.append({'Student' : 'D', 'Maths' : 44, 'Science' : 48}, ignore_index = True)\n",
        "df = df.append({'Student' : 'D', 'Maths' : 30, 'Science' : 45}, ignore_index = True)\n",
        "\n",
        "#calculating the mean for the entire data set per features\n",
        "\n",
        "n= len(df)\n",
        "tot_x = 0\n",
        "tot_y = 0\n",
        "for x,y in zip(df['Maths'],df['Science']):\n",
        "  tot_x = x+ tot_x\n",
        "  tot_y = y + tot_y\n",
        "mean_maths = tot_x/n\n",
        "mean_science = tot_y/n"
      ],
      "metadata": {
        "id": "m_BZwoA9VXga",
        "colab": {
          "base_uri": "https://localhost:8080/"
        },
        "outputId": "05b76dac-2514-4add-8a28-1f3e3fdd3b2c"
      },
      "execution_count": 8,
      "outputs": [
        {
          "output_type": "stream",
          "name": "stdout",
          "text": [
            "35.6\n",
            "38.2\n"
          ]
        },
        {
          "output_type": "stream",
          "name": "stderr",
          "text": [
            "<ipython-input-8-a2fe51b94afe>:4: FutureWarning: The frame.append method is deprecated and will be removed from pandas in a future version. Use pandas.concat instead.\n",
            "  df = df.append({'Student' : 'A', 'Maths' : 35, 'Science' : 24}, ignore_index = True)\n",
            "<ipython-input-8-a2fe51b94afe>:5: FutureWarning: The frame.append method is deprecated and will be removed from pandas in a future version. Use pandas.concat instead.\n",
            "  df = df.append({'Student' : 'B', 'Maths' : 20, 'Science' : 35}, ignore_index = True)\n",
            "<ipython-input-8-a2fe51b94afe>:6: FutureWarning: The frame.append method is deprecated and will be removed from pandas in a future version. Use pandas.concat instead.\n",
            "  df = df.append({'Student' : 'C', 'Maths' : 49, 'Science' : 39}, ignore_index = True)\n",
            "<ipython-input-8-a2fe51b94afe>:7: FutureWarning: The frame.append method is deprecated and will be removed from pandas in a future version. Use pandas.concat instead.\n",
            "  df = df.append({'Student' : 'D', 'Maths' : 44, 'Science' : 48}, ignore_index = True)\n",
            "<ipython-input-8-a2fe51b94afe>:8: FutureWarning: The frame.append method is deprecated and will be removed from pandas in a future version. Use pandas.concat instead.\n",
            "  df = df.append({'Student' : 'D', 'Maths' : 30, 'Science' : 45}, ignore_index = True)\n"
          ]
        }
      ]
    },
    {
      "cell_type": "code",
      "source": [
        "#calculating the covariance\n",
        "cov = 0\n",
        "for x, y in zip(df['Maths'],df['Science']):\n",
        "  temp_x = x - mean_maths\n",
        "  temp_y = y- mean_science\n",
        "  temp_cov = temp_x*temp_y\n",
        "  cov = cov+temp_cov\n",
        "cov = cov/n\n",
        "print(\"Covariance between Maths and Science:\", cov)"
      ],
      "metadata": {
        "colab": {
          "base_uri": "https://localhost:8080/"
        },
        "id": "SJ_SMCOmHLl8",
        "outputId": "d904c4b0-8b4a-497c-f8d1-411f710ae937"
      },
      "execution_count": 9,
      "outputs": [
        {
          "output_type": "stream",
          "name": "stdout",
          "text": [
            "Covariance between Maths and Science: 22.680000000000007\n"
          ]
        }
      ]
    },
    {
      "cell_type": "code",
      "source": [
        "#Calculating the standard variance\n",
        "sv_x = 0\n",
        "sv_y = 0\n",
        "for x, y in zip(df['Maths'],df['Science']):\n",
        "  temp_x = np.square(x - mean_maths)\n",
        "  temp_y = np.square(y- mean_science)\n",
        "  sv_x = sv_x + temp_x\n",
        "  sv_y = sv_y + temp_y\n",
        "\n",
        "sv_x = np.sqrt(sv_x/n)\n",
        "sv_y = np.sqrt(sv_y/n)\n",
        "print('Standard Deviation for x is: ', sv_x)\n",
        "print('Standard Deviation for y is: ', sv_y)"
      ],
      "metadata": {
        "colab": {
          "base_uri": "https://localhost:8080/"
        },
        "id": "HqsWqq6hNQF2",
        "outputId": "50b01376-0e2f-4ba8-88cb-98f2088a7342"
      },
      "execution_count": 19,
      "outputs": [
        {
          "output_type": "stream",
          "name": "stdout",
          "text": [
            "Standard Deviation for x is:  10.248902380255165\n",
            "Standard Deviation for y is:  8.423775875461075\n"
          ]
        }
      ]
    },
    {
      "cell_type": "code",
      "source": [
        "#Calculating the Pearson's corelation\n",
        "pearsons_corr = cov/(sv_x*sv_y)\n",
        "print('Pearsons correlations for Maths and Science: ', pearsons_corr)\n",
        "#We can see that there is little to no correlation between"
      ],
      "metadata": {
        "colab": {
          "base_uri": "https://localhost:8080/"
        },
        "id": "zYEjAxhRUHON",
        "outputId": "03d91d31-9399-4ae6-d0e0-2b32083ea339"
      },
      "execution_count": 20,
      "outputs": [
        {
          "output_type": "stream",
          "name": "stdout",
          "text": [
            "Pearsons correlations for Maths and Science : 0.26269928470887305\n"
          ]
        }
      ]
    },
    {
      "cell_type": "code",
      "source": [
        "#Calculating the Spearman's correlation\n",
        "\n",
        "#Calculating the ranks\n",
        "list_maths = df['Maths'].tolist()\n",
        "list_science = df['Science'].tolist()\n",
        "\n",
        "print(list_maths)\n",
        "sorted_index_maths = sorted(range(len(list_maths)), key=lambda k: list_maths[k], reverse=True)\n",
        "print(list(sorted_index_maths))\n"
      ],
      "metadata": {
        "colab": {
          "base_uri": "https://localhost:8080/"
        },
        "id": "UPv46QJ5U5Vo",
        "outputId": "6ddef21c-e6d0-4122-a7de-b1d8ba6f1855"
      },
      "execution_count": 27,
      "outputs": [
        {
          "output_type": "stream",
          "name": "stdout",
          "text": [
            "[35, 20, 49, 44, 30]\n",
            "[2, 3, 0, 4, 1]\n"
          ]
        }
      ]
    },
    {
      "cell_type": "code",
      "source": [],
      "metadata": {
        "id": "aYf_cbLuQyXZ"
      },
      "execution_count": null,
      "outputs": []
    },
    {
      "cell_type": "code",
      "source": [
        "#detecting outliers and removing a them using the Z-score. s"
      ],
      "metadata": {
        "id": "b064R3wkdncf"
      },
      "execution_count": null,
      "outputs": []
    }
  ]
}