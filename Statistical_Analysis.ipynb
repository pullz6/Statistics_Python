{
  "nbformat": 4,
  "nbformat_minor": 0,
  "metadata": {
    "colab": {
      "provenance": [],
      "authorship_tag": "ABX9TyNJCbrUp2LyGmc9BOlPpqo7",
      "include_colab_link": true
    },
    "kernelspec": {
      "name": "python3",
      "display_name": "Python 3"
    },
    "language_info": {
      "name": "python"
    }
  },
  "cells": [
    {
      "cell_type": "markdown",
      "metadata": {
        "id": "view-in-github",
        "colab_type": "text"
      },
      "source": [
        "<a href=\"https://colab.research.google.com/github/pullz6/Statistics_Python/blob/main/Statistical_Analysis.ipynb\" target=\"_parent\"><img src=\"https://colab.research.google.com/assets/colab-badge.svg\" alt=\"Open In Colab\"/></a>"
      ]
    },
    {
      "cell_type": "code",
      "execution_count": 1,
      "metadata": {
        "id": "kA1AlO4lKcQi"
      },
      "outputs": [],
      "source": [
        "import pandas as pd\n",
        "import numpy as np\n",
        "import math\n",
        "import statistics\n",
        "import random"
      ]
    },
    {
      "cell_type": "code",
      "source": [
        "#implementing correlation for a list of numbers\n",
        "\n",
        "df = pd.DataFrame(columns = [\"Student\",\"Maths\",\"Science\"])\n",
        "df = df.append({'Student' : 'A', 'Maths' : 35, 'Science' : 24}, ignore_index = True)\n",
        "df = df.append({'Student' : 'B', 'Maths' : 20, 'Science' : 35}, ignore_index = True)\n",
        "df = df.append({'Student' : 'C', 'Maths' : 49, 'Science' : 39}, ignore_index = True)\n",
        "df = df.append({'Student' : 'D', 'Maths' : 44, 'Science' : 48}, ignore_index = True)\n",
        "df = df.append({'Student' : 'D', 'Maths' : 30, 'Science' : 45}, ignore_index = True)\n",
        "\n",
        "#calculating the mean for the entire data set per features\n",
        "\n",
        "n= len(df)\n",
        "tot_x = 0\n",
        "tot_y = 0\n",
        "for x,y in zip(df['Maths'],df['Science']):\n",
        "  tot_x = x+ tot_x\n",
        "  tot_y = y + tot_y\n",
        "mean_maths = tot_x/n\n",
        "mean_science = tot_y/n"
      ],
      "metadata": {
        "id": "m_BZwoA9VXga",
        "colab": {
          "base_uri": "https://localhost:8080/"
        },
        "outputId": "f2ac4458-794d-4388-c916-fe0ebc5ab899"
      },
      "execution_count": 2,
      "outputs": [
        {
          "output_type": "stream",
          "name": "stderr",
          "text": [
            "<ipython-input-2-41d237e2add5>:4: FutureWarning: The frame.append method is deprecated and will be removed from pandas in a future version. Use pandas.concat instead.\n",
            "  df = df.append({'Student' : 'A', 'Maths' : 35, 'Science' : 24}, ignore_index = True)\n",
            "<ipython-input-2-41d237e2add5>:5: FutureWarning: The frame.append method is deprecated and will be removed from pandas in a future version. Use pandas.concat instead.\n",
            "  df = df.append({'Student' : 'B', 'Maths' : 20, 'Science' : 35}, ignore_index = True)\n",
            "<ipython-input-2-41d237e2add5>:6: FutureWarning: The frame.append method is deprecated and will be removed from pandas in a future version. Use pandas.concat instead.\n",
            "  df = df.append({'Student' : 'C', 'Maths' : 49, 'Science' : 39}, ignore_index = True)\n",
            "<ipython-input-2-41d237e2add5>:7: FutureWarning: The frame.append method is deprecated and will be removed from pandas in a future version. Use pandas.concat instead.\n",
            "  df = df.append({'Student' : 'D', 'Maths' : 44, 'Science' : 48}, ignore_index = True)\n",
            "<ipython-input-2-41d237e2add5>:8: FutureWarning: The frame.append method is deprecated and will be removed from pandas in a future version. Use pandas.concat instead.\n",
            "  df = df.append({'Student' : 'D', 'Maths' : 30, 'Science' : 45}, ignore_index = True)\n"
          ]
        }
      ]
    },
    {
      "cell_type": "code",
      "source": [
        "#calculating the covariance\n",
        "cov = 0\n",
        "for x, y in zip(df['Maths'],df['Science']):\n",
        "  temp_x = x - mean_maths\n",
        "  temp_y = y- mean_science\n",
        "  temp_cov = temp_x*temp_y\n",
        "  cov = cov+temp_cov\n",
        "cov = cov/n\n",
        "print(\"Covariance between Maths and Science:\", cov)"
      ],
      "metadata": {
        "colab": {
          "base_uri": "https://localhost:8080/"
        },
        "id": "SJ_SMCOmHLl8",
        "outputId": "b946c0c8-f144-4ea6-b914-e75a6ccaea0e"
      },
      "execution_count": 3,
      "outputs": [
        {
          "output_type": "stream",
          "name": "stdout",
          "text": [
            "Covariance between Maths and Science: 22.680000000000007\n"
          ]
        }
      ]
    },
    {
      "cell_type": "code",
      "source": [
        "#Calculating the standard variance\n",
        "sv_x = 0\n",
        "sv_y = 0\n",
        "for x, y in zip(df['Maths'],df['Science']):\n",
        "  temp_x = np.square(x - mean_maths)\n",
        "  temp_y = np.square(y- mean_science)\n",
        "  sv_x = sv_x + temp_x\n",
        "  sv_y = sv_y + temp_y\n",
        "\n",
        "sv_x = np.sqrt(sv_x/n)\n",
        "sv_y = np.sqrt(sv_y/n)\n",
        "print('Standard Deviation for x is: ', sv_x)\n",
        "print('Standard Deviation for y is: ', sv_y)"
      ],
      "metadata": {
        "colab": {
          "base_uri": "https://localhost:8080/"
        },
        "id": "HqsWqq6hNQF2",
        "outputId": "dd9ed499-1dc2-476d-9a88-6c0d33e9346e"
      },
      "execution_count": 4,
      "outputs": [
        {
          "output_type": "stream",
          "name": "stdout",
          "text": [
            "Standard Deviation for x is:  10.248902380255165\n",
            "Standard Deviation for y is:  8.423775875461075\n"
          ]
        }
      ]
    },
    {
      "cell_type": "code",
      "source": [
        "#Calculating the Pearson's corelation\n",
        "pearsons_corr = cov/(sv_x*sv_y)\n",
        "print('Pearsons correlations for Maths and Science: ', pearsons_corr)\n",
        "#We can see that there is little to no correlation between"
      ],
      "metadata": {
        "colab": {
          "base_uri": "https://localhost:8080/"
        },
        "id": "zYEjAxhRUHON",
        "outputId": "561b5e97-3cb9-459c-fab8-59a65e67e713"
      },
      "execution_count": 5,
      "outputs": [
        {
          "output_type": "stream",
          "name": "stdout",
          "text": [
            "Pearsons correlations for Maths and Science:  0.26269928470887305\n"
          ]
        }
      ]
    },
    {
      "cell_type": "code",
      "source": [
        "df.head()"
      ],
      "metadata": {
        "colab": {
          "base_uri": "https://localhost:8080/",
          "height": 206
        },
        "id": "1-s45INHXKt5",
        "outputId": "6338ef92-1d17-4515-b0e7-d9ffba3824da"
      },
      "execution_count": 6,
      "outputs": [
        {
          "output_type": "execute_result",
          "data": {
            "text/plain": [
              "  Student Maths Science\n",
              "0       A    35      24\n",
              "1       B    20      35\n",
              "2       C    49      39\n",
              "3       D    44      48\n",
              "4       D    30      45"
            ],
            "text/html": [
              "\n",
              "  <div id=\"df-db8911fa-13a9-4a00-8d17-69acf6e54ed6\" class=\"colab-df-container\">\n",
              "    <div>\n",
              "<style scoped>\n",
              "    .dataframe tbody tr th:only-of-type {\n",
              "        vertical-align: middle;\n",
              "    }\n",
              "\n",
              "    .dataframe tbody tr th {\n",
              "        vertical-align: top;\n",
              "    }\n",
              "\n",
              "    .dataframe thead th {\n",
              "        text-align: right;\n",
              "    }\n",
              "</style>\n",
              "<table border=\"1\" class=\"dataframe\">\n",
              "  <thead>\n",
              "    <tr style=\"text-align: right;\">\n",
              "      <th></th>\n",
              "      <th>Student</th>\n",
              "      <th>Maths</th>\n",
              "      <th>Science</th>\n",
              "    </tr>\n",
              "  </thead>\n",
              "  <tbody>\n",
              "    <tr>\n",
              "      <th>0</th>\n",
              "      <td>A</td>\n",
              "      <td>35</td>\n",
              "      <td>24</td>\n",
              "    </tr>\n",
              "    <tr>\n",
              "      <th>1</th>\n",
              "      <td>B</td>\n",
              "      <td>20</td>\n",
              "      <td>35</td>\n",
              "    </tr>\n",
              "    <tr>\n",
              "      <th>2</th>\n",
              "      <td>C</td>\n",
              "      <td>49</td>\n",
              "      <td>39</td>\n",
              "    </tr>\n",
              "    <tr>\n",
              "      <th>3</th>\n",
              "      <td>D</td>\n",
              "      <td>44</td>\n",
              "      <td>48</td>\n",
              "    </tr>\n",
              "    <tr>\n",
              "      <th>4</th>\n",
              "      <td>D</td>\n",
              "      <td>30</td>\n",
              "      <td>45</td>\n",
              "    </tr>\n",
              "  </tbody>\n",
              "</table>\n",
              "</div>\n",
              "    <div class=\"colab-df-buttons\">\n",
              "\n",
              "  <div class=\"colab-df-container\">\n",
              "    <button class=\"colab-df-convert\" onclick=\"convertToInteractive('df-db8911fa-13a9-4a00-8d17-69acf6e54ed6')\"\n",
              "            title=\"Convert this dataframe to an interactive table.\"\n",
              "            style=\"display:none;\">\n",
              "\n",
              "  <svg xmlns=\"http://www.w3.org/2000/svg\" height=\"24px\" viewBox=\"0 -960 960 960\">\n",
              "    <path d=\"M120-120v-720h720v720H120Zm60-500h600v-160H180v160Zm220 220h160v-160H400v160Zm0 220h160v-160H400v160ZM180-400h160v-160H180v160Zm440 0h160v-160H620v160ZM180-180h160v-160H180v160Zm440 0h160v-160H620v160Z\"/>\n",
              "  </svg>\n",
              "    </button>\n",
              "\n",
              "  <style>\n",
              "    .colab-df-container {\n",
              "      display:flex;\n",
              "      gap: 12px;\n",
              "    }\n",
              "\n",
              "    .colab-df-convert {\n",
              "      background-color: #E8F0FE;\n",
              "      border: none;\n",
              "      border-radius: 50%;\n",
              "      cursor: pointer;\n",
              "      display: none;\n",
              "      fill: #1967D2;\n",
              "      height: 32px;\n",
              "      padding: 0 0 0 0;\n",
              "      width: 32px;\n",
              "    }\n",
              "\n",
              "    .colab-df-convert:hover {\n",
              "      background-color: #E2EBFA;\n",
              "      box-shadow: 0px 1px 2px rgba(60, 64, 67, 0.3), 0px 1px 3px 1px rgba(60, 64, 67, 0.15);\n",
              "      fill: #174EA6;\n",
              "    }\n",
              "\n",
              "    .colab-df-buttons div {\n",
              "      margin-bottom: 4px;\n",
              "    }\n",
              "\n",
              "    [theme=dark] .colab-df-convert {\n",
              "      background-color: #3B4455;\n",
              "      fill: #D2E3FC;\n",
              "    }\n",
              "\n",
              "    [theme=dark] .colab-df-convert:hover {\n",
              "      background-color: #434B5C;\n",
              "      box-shadow: 0px 1px 3px 1px rgba(0, 0, 0, 0.15);\n",
              "      filter: drop-shadow(0px 1px 2px rgba(0, 0, 0, 0.3));\n",
              "      fill: #FFFFFF;\n",
              "    }\n",
              "  </style>\n",
              "\n",
              "    <script>\n",
              "      const buttonEl =\n",
              "        document.querySelector('#df-db8911fa-13a9-4a00-8d17-69acf6e54ed6 button.colab-df-convert');\n",
              "      buttonEl.style.display =\n",
              "        google.colab.kernel.accessAllowed ? 'block' : 'none';\n",
              "\n",
              "      async function convertToInteractive(key) {\n",
              "        const element = document.querySelector('#df-db8911fa-13a9-4a00-8d17-69acf6e54ed6');\n",
              "        const dataTable =\n",
              "          await google.colab.kernel.invokeFunction('convertToInteractive',\n",
              "                                                    [key], {});\n",
              "        if (!dataTable) return;\n",
              "\n",
              "        const docLinkHtml = 'Like what you see? Visit the ' +\n",
              "          '<a target=\"_blank\" href=https://colab.research.google.com/notebooks/data_table.ipynb>data table notebook</a>'\n",
              "          + ' to learn more about interactive tables.';\n",
              "        element.innerHTML = '';\n",
              "        dataTable['output_type'] = 'display_data';\n",
              "        await google.colab.output.renderOutput(dataTable, element);\n",
              "        const docLink = document.createElement('div');\n",
              "        docLink.innerHTML = docLinkHtml;\n",
              "        element.appendChild(docLink);\n",
              "      }\n",
              "    </script>\n",
              "  </div>\n",
              "\n",
              "\n",
              "<div id=\"df-1b66996d-32cd-4447-98f7-6c5030433579\">\n",
              "  <button class=\"colab-df-quickchart\" onclick=\"quickchart('df-1b66996d-32cd-4447-98f7-6c5030433579')\"\n",
              "            title=\"Suggest charts\"\n",
              "            style=\"display:none;\">\n",
              "\n",
              "<svg xmlns=\"http://www.w3.org/2000/svg\" height=\"24px\"viewBox=\"0 0 24 24\"\n",
              "     width=\"24px\">\n",
              "    <g>\n",
              "        <path d=\"M19 3H5c-1.1 0-2 .9-2 2v14c0 1.1.9 2 2 2h14c1.1 0 2-.9 2-2V5c0-1.1-.9-2-2-2zM9 17H7v-7h2v7zm4 0h-2V7h2v10zm4 0h-2v-4h2v4z\"/>\n",
              "    </g>\n",
              "</svg>\n",
              "  </button>\n",
              "\n",
              "<style>\n",
              "  .colab-df-quickchart {\n",
              "      --bg-color: #E8F0FE;\n",
              "      --fill-color: #1967D2;\n",
              "      --hover-bg-color: #E2EBFA;\n",
              "      --hover-fill-color: #174EA6;\n",
              "      --disabled-fill-color: #AAA;\n",
              "      --disabled-bg-color: #DDD;\n",
              "  }\n",
              "\n",
              "  [theme=dark] .colab-df-quickchart {\n",
              "      --bg-color: #3B4455;\n",
              "      --fill-color: #D2E3FC;\n",
              "      --hover-bg-color: #434B5C;\n",
              "      --hover-fill-color: #FFFFFF;\n",
              "      --disabled-bg-color: #3B4455;\n",
              "      --disabled-fill-color: #666;\n",
              "  }\n",
              "\n",
              "  .colab-df-quickchart {\n",
              "    background-color: var(--bg-color);\n",
              "    border: none;\n",
              "    border-radius: 50%;\n",
              "    cursor: pointer;\n",
              "    display: none;\n",
              "    fill: var(--fill-color);\n",
              "    height: 32px;\n",
              "    padding: 0;\n",
              "    width: 32px;\n",
              "  }\n",
              "\n",
              "  .colab-df-quickchart:hover {\n",
              "    background-color: var(--hover-bg-color);\n",
              "    box-shadow: 0 1px 2px rgba(60, 64, 67, 0.3), 0 1px 3px 1px rgba(60, 64, 67, 0.15);\n",
              "    fill: var(--button-hover-fill-color);\n",
              "  }\n",
              "\n",
              "  .colab-df-quickchart-complete:disabled,\n",
              "  .colab-df-quickchart-complete:disabled:hover {\n",
              "    background-color: var(--disabled-bg-color);\n",
              "    fill: var(--disabled-fill-color);\n",
              "    box-shadow: none;\n",
              "  }\n",
              "\n",
              "  .colab-df-spinner {\n",
              "    border: 2px solid var(--fill-color);\n",
              "    border-color: transparent;\n",
              "    border-bottom-color: var(--fill-color);\n",
              "    animation:\n",
              "      spin 1s steps(1) infinite;\n",
              "  }\n",
              "\n",
              "  @keyframes spin {\n",
              "    0% {\n",
              "      border-color: transparent;\n",
              "      border-bottom-color: var(--fill-color);\n",
              "      border-left-color: var(--fill-color);\n",
              "    }\n",
              "    20% {\n",
              "      border-color: transparent;\n",
              "      border-left-color: var(--fill-color);\n",
              "      border-top-color: var(--fill-color);\n",
              "    }\n",
              "    30% {\n",
              "      border-color: transparent;\n",
              "      border-left-color: var(--fill-color);\n",
              "      border-top-color: var(--fill-color);\n",
              "      border-right-color: var(--fill-color);\n",
              "    }\n",
              "    40% {\n",
              "      border-color: transparent;\n",
              "      border-right-color: var(--fill-color);\n",
              "      border-top-color: var(--fill-color);\n",
              "    }\n",
              "    60% {\n",
              "      border-color: transparent;\n",
              "      border-right-color: var(--fill-color);\n",
              "    }\n",
              "    80% {\n",
              "      border-color: transparent;\n",
              "      border-right-color: var(--fill-color);\n",
              "      border-bottom-color: var(--fill-color);\n",
              "    }\n",
              "    90% {\n",
              "      border-color: transparent;\n",
              "      border-bottom-color: var(--fill-color);\n",
              "    }\n",
              "  }\n",
              "</style>\n",
              "\n",
              "  <script>\n",
              "    async function quickchart(key) {\n",
              "      const quickchartButtonEl =\n",
              "        document.querySelector('#' + key + ' button');\n",
              "      quickchartButtonEl.disabled = true;  // To prevent multiple clicks.\n",
              "      quickchartButtonEl.classList.add('colab-df-spinner');\n",
              "      try {\n",
              "        const charts = await google.colab.kernel.invokeFunction(\n",
              "            'suggestCharts', [key], {});\n",
              "      } catch (error) {\n",
              "        console.error('Error during call to suggestCharts:', error);\n",
              "      }\n",
              "      quickchartButtonEl.classList.remove('colab-df-spinner');\n",
              "      quickchartButtonEl.classList.add('colab-df-quickchart-complete');\n",
              "    }\n",
              "    (() => {\n",
              "      let quickchartButtonEl =\n",
              "        document.querySelector('#df-1b66996d-32cd-4447-98f7-6c5030433579 button');\n",
              "      quickchartButtonEl.style.display =\n",
              "        google.colab.kernel.accessAllowed ? 'block' : 'none';\n",
              "    })();\n",
              "  </script>\n",
              "</div>\n",
              "    </div>\n",
              "  </div>\n"
            ],
            "application/vnd.google.colaboratory.intrinsic+json": {
              "type": "dataframe",
              "variable_name": "df",
              "repr_error": "'str' object has no attribute 'empty'"
            }
          },
          "metadata": {},
          "execution_count": 6
        }
      ]
    },
    {
      "cell_type": "code",
      "source": [
        "#Calculating the Spearman's correlation\n",
        "\n",
        "#Calculating the ranks\n",
        "list_maths = df['Maths'].tolist()\n",
        "list_science = df['Science'].tolist()\n",
        "\n",
        "def calculate_ranks(array):\n",
        "  sorted_index = list(sorted(range(len(array)), key=lambda k: array[k], reverse=True))\n",
        "  rank_array = [x+1 for x in sorted_index]\n",
        "  if checkIfArrayIsUnique==False:\n",
        "    return rank_array\n",
        "  else:\n",
        "    for x in array:\n",
        "      index = array.index(x)\n",
        "      for y in array:\n",
        "        temp_index = array.index(y)\n",
        "        if index !=(temp_index):\n",
        "          if x is y:\n",
        "            duplicate_rank = return_duplicate_rank(array, rank_array, y)\n",
        "            rank_array.insert(index, duplicate_rank)\n",
        "    return rank_array\n",
        "\n",
        "def return_duplicate_rank(array,ranked_array,duplicate):\n",
        "  count = 0\n",
        "  duplicate_ranks = []\n",
        "  for x in array:\n",
        "    if duplicate==x:\n",
        "      index = array.index(duplicate)\n",
        "      duplicate_ranks.append(ranked_array.index(duplicate))\n",
        "      count = count + 1\n",
        "  duplicate_ranks = duplicate_ranks.sort()\n",
        "  duplicate_rank = (duplicate_ranks[-1]/count)\n",
        "  return duplicate_rank\n",
        "\n",
        "\n",
        "def checkIfArrayIsUnique(array):\n",
        "  i = 0\n",
        "  for x in array:\n",
        "    index = array.index(x)\n",
        "    for y in array:\n",
        "      temp_index = array.index(y)\n",
        "      if index !=(temp_index):\n",
        "        print('works')\n",
        "        if x == y:\n",
        "          print('works')\n",
        "          return True\n",
        "        else:\n",
        "          continue\n",
        "      else:\n",
        "        continue\n",
        "  return False\n",
        "\n",
        "calculate_ranks(list_maths)\n",
        "calculate_ranks(list_science)\n",
        "#print(list_maths)\n",
        "try_list = [1,2,2,3,4,5]\n",
        "#sorted_index_maths = list(sorted(range(len(try_list)), key=lambda k: try_list[k], reverse=True))\n",
        "#sorted_index_maths = [x+1 for x in sorted_index_maths]\n",
        "print(calculate_ranks(try_list))"
      ],
      "metadata": {
        "colab": {
          "base_uri": "https://localhost:8080/"
        },
        "id": "UPv46QJ5U5Vo",
        "outputId": "2effefaf-4d35-4466-b5ee-67dc08c83dde"
      },
      "execution_count": 7,
      "outputs": [
        {
          "output_type": "stream",
          "name": "stdout",
          "text": [
            "[6, 5, 4, 2, 3, 1]\n"
          ]
        }
      ]
    },
    {
      "cell_type": "code",
      "source": [
        "#detecting outliers and removing a them using the Z-score. s"
      ],
      "metadata": {
        "id": "b064R3wkdncf"
      },
      "execution_count": null,
      "outputs": []
    },
    {
      "cell_type": "markdown",
      "source": [
        "PMF and CMF"
      ],
      "metadata": {
        "id": "dAeAvq438Z2E"
      }
    },
    {
      "cell_type": "code",
      "source": [
        "#Create an array from 1 to 6\n",
        "array = []\n",
        "for i in range(10000):\n",
        "  array.append(random.randint(1,6))"
      ],
      "metadata": {
        "id": "ESIF1mXD8Uos"
      },
      "execution_count": 8,
      "outputs": []
    },
    {
      "cell_type": "code",
      "source": [
        "pd.Series(array).value_counts()"
      ],
      "metadata": {
        "colab": {
          "base_uri": "https://localhost:8080/"
        },
        "id": "pXd3ROi99CXj",
        "outputId": "1d3ceeba-f5d8-489d-b212-9c4680dd14cd"
      },
      "execution_count": 9,
      "outputs": [
        {
          "output_type": "execute_result",
          "data": {
            "text/plain": [
              "6    1712\n",
              "3    1692\n",
              "2    1672\n",
              "5    1670\n",
              "1    1636\n",
              "4    1618\n",
              "dtype: int64"
            ]
          },
          "metadata": {},
          "execution_count": 9
        }
      ]
    },
    {
      "cell_type": "code",
      "source": [
        "pd.Series(array).value_counts()/pd.Series(array).value_counts().sum()"
      ],
      "metadata": {
        "colab": {
          "base_uri": "https://localhost:8080/"
        },
        "id": "Ce-M-xcq9P0p",
        "outputId": "f3e6e2fc-2801-4def-a85f-34eb3fdbe315"
      },
      "execution_count": 10,
      "outputs": [
        {
          "output_type": "execute_result",
          "data": {
            "text/plain": [
              "6    0.1712\n",
              "3    0.1692\n",
              "2    0.1672\n",
              "5    0.1670\n",
              "1    0.1636\n",
              "4    0.1618\n",
              "dtype: float64"
            ]
          },
          "metadata": {},
          "execution_count": 10
        }
      ]
    },
    {
      "cell_type": "code",
      "source": [
        "plotting = pd.Series(array).value_counts()/pd.Series(array).value_counts().sum()"
      ],
      "metadata": {
        "id": "4w_gSOjR95D1"
      },
      "execution_count": 11,
      "outputs": []
    },
    {
      "cell_type": "code",
      "source": [
        "plotting.plot(kind='bar')"
      ],
      "metadata": {
        "colab": {
          "base_uri": "https://localhost:8080/",
          "height": 443
        },
        "id": "L3nW6lB49-L8",
        "outputId": "bc45fd03-5cc8-4313-ec8a-75160034f68b"
      },
      "execution_count": 12,
      "outputs": [
        {
          "output_type": "execute_result",
          "data": {
            "text/plain": [
              "<Axes: >"
            ]
          },
          "metadata": {},
          "execution_count": 12
        },
        {
          "output_type": "display_data",
          "data": {
            "text/plain": [
              "<Figure size 640x480 with 1 Axes>"
            ],
            "image/png": "[encoded data removed]"
          },
          "metadata": {}
        }
      ]
    }
  ]
}